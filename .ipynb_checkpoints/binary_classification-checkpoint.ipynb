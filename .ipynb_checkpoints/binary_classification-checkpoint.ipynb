{
 "cells": [
  {
   "cell_type": "code",
   "execution_count": 2,
   "metadata": {},
   "outputs": [],
   "source": [
    "from keras.datasets import imdb"
   ]
  },
  {
   "cell_type": "markdown",
   "metadata": {},
   "source": [
    "using num_words = 10000 will increase the performance"
   ]
  },
  {
   "cell_type": "code",
   "execution_count": 3,
   "metadata": {},
   "outputs": [],
   "source": [
    "(train_data, train_labels),(test_data, test_labels) = imdb.load_data(num_words = 2500)"
   ]
  },
  {
   "cell_type": "markdown",
   "metadata": {},
   "source": [
    "For train_labels and test_labels the 0 stands for negative review and 1 stands for positive review"
   ]
  },
  {
   "cell_type": "code",
   "execution_count": 4,
   "metadata": {},
   "outputs": [],
   "source": [
    "def decode_review_to_English(index):\n",
    "    word_index = imdb.get_word_index()\n",
    "    reserve_word_index = dict(\n",
    "        [(value,key) for (key,value) in word_index.items()])\n",
    "    decoded_review = ' '.join(\n",
    "        [reserve_word_index.get(i-3,'?') for i in train_data[index]])\n",
    "    return decoded_review"
   ]
  },
  {
   "cell_type": "code",
   "execution_count": 5,
   "metadata": {},
   "outputs": [
    {
     "name": "stdout",
     "output_type": "stream",
     "text": [
      "? with all thats going on in the world sometimes we need an escape ? ? is just that not a ? plot or deep meaning however it is not ? of substance there is more than ? action or heart ? ? there are the charming little shows you can watch with your kids and have enough substance to enjoy with your date try it you may like it more than you think the little girl is really smart and cute the dad and the girl go ? some ? ? when a ? boyfriend ? in trouble ? for ? and the life ? known may be ? ? fred ? and kelly lynch play good roles as the ? ? and ? ? and james ? are a interesting ? like ? portraying street wise ? ? their ? ? and comedy ?\n"
     ]
    }
   ],
   "source": [
    "print(decode_review_to_English(547))"
   ]
  },
  {
   "cell_type": "code",
   "execution_count": 6,
   "metadata": {},
   "outputs": [],
   "source": [
    "import numpy as np"
   ]
  },
  {
   "cell_type": "code",
   "execution_count": 7,
   "metadata": {},
   "outputs": [],
   "source": [
    "def vectorize_sequences(sequences,dimension=2500):\n",
    "    results = np.zeros((len(sequences),dimension))\n",
    "    for i,sequence in enumerate(sequences):\n",
    "        results[i,sequence] = 1.\n",
    "    return results     "
   ]
  },
  {
   "cell_type": "code",
   "execution_count": 8,
   "metadata": {},
   "outputs": [],
   "source": [
    "x_train = vectorize_sequences(train_data)"
   ]
  },
  {
   "cell_type": "code",
   "execution_count": 9,
   "metadata": {},
   "outputs": [],
   "source": [
    "x_test = vectorize_sequences(test_data)"
   ]
  },
  {
   "cell_type": "code",
   "execution_count": 10,
   "metadata": {},
   "outputs": [
    {
     "data": {
      "text/plain": [
       "array([0., 1., 1., ..., 0., 0., 0.])"
      ]
     },
     "execution_count": 10,
     "metadata": {},
     "output_type": "execute_result"
    }
   ],
   "source": [
    "x_train[0]"
   ]
  },
  {
   "cell_type": "code",
   "execution_count": 11,
   "metadata": {},
   "outputs": [],
   "source": [
    "y_train = np.asarray(train_labels).astype('float32')"
   ]
  },
  {
   "cell_type": "code",
   "execution_count": 12,
   "metadata": {},
   "outputs": [],
   "source": [
    "y_test = np.asarray(test_labels).astype('float32')"
   ]
  },
  {
   "cell_type": "code",
   "execution_count": 13,
   "metadata": {},
   "outputs": [],
   "source": [
    "from keras import models\n",
    "from keras import layers"
   ]
  },
  {
   "cell_type": "code",
   "execution_count": 14,
   "metadata": {},
   "outputs": [],
   "source": [
    "model = models.Sequential()\n",
    "model.add(layers.Dense(16,activation='relu',input_shape=(2500,)))\n",
    "model.add(layers.Dense(16,activation='relu'))\n",
    "model.add(layers.Dense(1,activation='sigmoid'))"
   ]
  },
  {
   "cell_type": "code",
   "execution_count": 15,
   "metadata": {},
   "outputs": [],
   "source": [
    "model.compile(optimizer='rmsprop',\n",
    "              loss='binary_crossentropy',\n",
    "              metrics=['acc'])"
   ]
  },
  {
   "cell_type": "markdown",
   "metadata": {},
   "source": [
    "------configuring the optimizer and using custom losses and metrics------\n",
    "\n",
    "from keras import optimizers\n",
    "model.compile(optimizer=optimizers.RMSprop(lr=0.001),\n",
    "               loss=losses.binary_crossentropy,\n",
    "               metrices=['metrices.binary_accuracy'])"
   ]
  },
  {
   "cell_type": "code",
   "execution_count": 16,
   "metadata": {},
   "outputs": [],
   "source": [
    "x_val = x_train[:10000]\n",
    "partial_x_train = x_train[10000:]\n",
    "y_val = y_train[:10000]\n",
    "partial_y_train = y_train[10000:]"
   ]
  },
  {
   "cell_type": "code",
   "execution_count": 17,
   "metadata": {},
   "outputs": [
    {
     "name": "stdout",
     "output_type": "stream",
     "text": [
      "Train on 15000 samples, validate on 10000 samples\n",
      "Epoch 1/20\n",
      "15000/15000 [==============================] - 4s 244us/step - loss: 0.5329 - acc: 0.7605 - val_loss: 0.4207 - val_acc: 0.8334\n",
      "Epoch 2/20\n",
      "15000/15000 [==============================] - 1s 44us/step - loss: 0.3550 - acc: 0.8685 - val_loss: 0.3353 - val_acc: 0.8684\n",
      "Epoch 3/20\n",
      "15000/15000 [==============================] - 1s 47us/step - loss: 0.2886 - acc: 0.8897 - val_loss: 0.3389 - val_acc: 0.8557\n",
      "Epoch 4/20\n",
      "15000/15000 [==============================] - 1s 47us/step - loss: 0.2583 - acc: 0.9005 - val_loss: 0.3004 - val_acc: 0.8762\n",
      "Epoch 5/20\n",
      "15000/15000 [==============================] - 1s 46us/step - loss: 0.2384 - acc: 0.9077 - val_loss: 0.3004 - val_acc: 0.8763\n",
      "Epoch 6/20\n",
      "15000/15000 [==============================] - 1s 48us/step - loss: 0.2240 - acc: 0.9137 - val_loss: 0.3130 - val_acc: 0.8715\n",
      "Epoch 7/20\n",
      "15000/15000 [==============================] - 1s 44us/step - loss: 0.2154 - acc: 0.9149 - val_loss: 0.3084 - val_acc: 0.8760\n",
      "Epoch 8/20\n",
      "15000/15000 [==============================] - 1s 41us/step - loss: 0.1974 - acc: 0.9267 - val_loss: 0.3360 - val_acc: 0.8637\n",
      "Epoch 9/20\n",
      "15000/15000 [==============================] - 1s 48us/step - loss: 0.1940 - acc: 0.9249 - val_loss: 0.3334 - val_acc: 0.8693\n",
      "Epoch 10/20\n",
      "15000/15000 [==============================] - 1s 44us/step - loss: 0.1816 - acc: 0.9320 - val_loss: 0.3292 - val_acc: 0.8728\n",
      "Epoch 11/20\n",
      "15000/15000 [==============================] - 1s 49us/step - loss: 0.1774 - acc: 0.9339 - val_loss: 0.3354 - val_acc: 0.8734\n",
      "Epoch 12/20\n",
      "15000/15000 [==============================] - 1s 44us/step - loss: 0.1676 - acc: 0.9353 - val_loss: 0.3621 - val_acc: 0.8614\n",
      "Epoch 13/20\n",
      "15000/15000 [==============================] - 1s 43us/step - loss: 0.1586 - acc: 0.9407 - val_loss: 0.3678 - val_acc: 0.8645\n",
      "Epoch 14/20\n",
      "15000/15000 [==============================] - 1s 47us/step - loss: 0.1530 - acc: 0.9439 - val_loss: 0.3710 - val_acc: 0.8644\n",
      "Epoch 15/20\n",
      "15000/15000 [==============================] - 1s 69us/step - loss: 0.1474 - acc: 0.9467 - val_loss: 0.3733 - val_acc: 0.8646\n",
      "Epoch 16/20\n",
      "15000/15000 [==============================] - 1s 62us/step - loss: 0.1340 - acc: 0.9533 - val_loss: 0.3774 - val_acc: 0.8649\n",
      "Epoch 17/20\n",
      "15000/15000 [==============================] - 1s 66us/step - loss: 0.1292 - acc: 0.9544 - val_loss: 0.3943 - val_acc: 0.8594\n",
      "Epoch 18/20\n",
      "15000/15000 [==============================] - 1s 53us/step - loss: 0.1200 - acc: 0.9583 - val_loss: 0.4154 - val_acc: 0.8581\n",
      "Epoch 19/20\n",
      "15000/15000 [==============================] - 1s 46us/step - loss: 0.1164 - acc: 0.9583 - val_loss: 0.4033 - val_acc: 0.8621\n",
      "Epoch 20/20\n",
      "15000/15000 [==============================] - 1s 44us/step - loss: 0.1037 - acc: 0.9658 - val_loss: 0.4169 - val_acc: 0.8628\n"
     ]
    }
   ],
   "source": [
    "history = model.fit(partial_x_train,partial_y_train,\n",
    "                    epochs=20,batch_size=512,\n",
    "                    validation_data = (x_val,y_val))"
   ]
  },
  {
   "cell_type": "markdown",
   "metadata": {},
   "source": [
    "Ploting the training and Validation loss"
   ]
  },
  {
   "cell_type": "code",
   "execution_count": 18,
   "metadata": {},
   "outputs": [],
   "source": [
    "import matplotlib.pyplot as plt"
   ]
  },
  {
   "cell_type": "code",
   "execution_count": 19,
   "metadata": {},
   "outputs": [
    {
     "data": {
      "image/png": "[encoded data removed]",
      "text/plain": [
       "<Figure size 432x288 with 1 Axes>"
      ]
     },
     "metadata": {},
     "output_type": "display_data"
    }
   ],
   "source": [
    "history_dict = history.history\n",
    "history_dict.keys()\n",
    "[u'acc',u'loss',u'val_acc',u'val_loss']\n",
    "loss_values = history_dict['loss']\n",
    "val_loss_values = history_dict['val_loss']\n",
    "epochs = range(1,len(history_dict['acc'])+1)\n",
    "plt.plot(epochs,loss_values,'bo',label='Training loss')\n",
    "plt.plot(epochs,val_loss_values,'b',label='Validation loss')\n",
    "plt.title('Training and validation loss')\n",
    "plt.xlabel('Epochs')\n",
    "plt.ylabel('Loss')\n",
    "plt.legend()\n",
    "plt.show()"
   ]
  },
  {
   "cell_type": "code",
   "execution_count": 20,
   "metadata": {},
   "outputs": [
    {
     "data": {
      "image/png": "[encoded data removed]",
      "text/plain": [
       "<Figure size 432x288 with 1 Axes>"
      ]
     },
     "metadata": {},
     "output_type": "display_data"
    }
   ],
   "source": [
    "plt.clf()\n",
    "acc_values = history_dict['acc']\n",
    "val_acc_values = history_dict['val_acc']\n",
    "plt.plot(epochs,acc_values,'bo',label='Training acc')\n",
    "plt.plot(epochs,val_acc_values,'b',label='Validation acc')\n",
    "plt.xlabel('Epochs')\n",
    "plt.ylabel('Accuracy')\n",
    "plt.title('Training and validation accuracy')\n",
    "plt.legend()\n",
    "plt.show()"
   ]
  },
  {
   "cell_type": "markdown",
   "metadata": {},
   "source": [
    "retraining"
   ]
  },
  {
   "cell_type": "code",
   "execution_count": 21,
   "metadata": {},
   "outputs": [
    {
     "name": "stdout",
     "output_type": "stream",
     "text": [
      "Epoch 1/4\n",
      "25000/25000 [==============================] - 2s 67us/step - loss: 0.4980 - acc: 0.7946\n",
      "Epoch 2/4\n",
      "25000/25000 [==============================] - 1s 29us/step - loss: 0.3168 - acc: 0.8820\n",
      "Epoch 3/4\n",
      "25000/25000 [==============================] - 1s 38us/step - loss: 0.2705 - acc: 0.8936\n",
      "Epoch 4/4\n",
      "25000/25000 [==============================] - 1s 45us/step - loss: 0.2521 - acc: 0.9021\n",
      "25000/25000 [==============================] - 2s 63us/step\n"
     ]
    }
   ],
   "source": [
    "model = models.Sequential()\n",
    "model.add(layers.Dense(16,activation='relu',input_shape=(2500,)))\n",
    "model.add(layers.Dense(16,activation='relu'))\n",
    "model.add(layers.Dense(1,activation='sigmoid'))\n",
    "\n",
    "model.compile(optimizer='rmsprop',\n",
    "              loss='binary_crossentropy',\n",
    "              metrics=['accuracy'])\n",
    "\n",
    "model.fit(x_train,y_train,epochs=4,batch_size=512)\n",
    "results = model.evaluate(x_test,y_test)"
   ]
  },
  {
   "cell_type": "code",
   "execution_count": 22,
   "metadata": {},
   "outputs": [
    {
     "data": {
      "text/plain": [
       "[0.3055186281490326, 0.87176]"
      ]
     },
     "execution_count": 22,
     "metadata": {},
     "output_type": "execute_result"
    }
   ],
   "source": [
    "results"
   ]
  },
  {
   "cell_type": "code",
   "execution_count": 23,
   "metadata": {},
   "outputs": [
    {
     "data": {
      "text/plain": [
       "array([[0.17069945],\n",
       "       [0.99886936],\n",
       "       [0.5690264 ],\n",
       "       ...,\n",
       "       [0.07948878],\n",
       "       [0.06139806],\n",
       "       [0.5539037 ]], dtype=float32)"
      ]
     },
     "execution_count": 23,
     "metadata": {},
     "output_type": "execute_result"
    }
   ],
   "source": [
    "model.predict(x_test)"
   ]
  },
  {
   "cell_type": "code",
   "execution_count": 24,
   "metadata": {},
   "outputs": [],
   "source": [
    "#applying regularization on this model to prevent overfiting\n",
    "#original model\n",
    "#from keras import models\n",
    "#from keras import layers\n",
    "#model = models.Sequential()\n",
    "#model.add(layers.Dense(16,activation='relu',input_shape=(2500,)))\n",
    "#model.add(layers.Dense(16,activation='relu'))\n",
    "#model.add(layers.Dense(1,activation='sigmoid'))"
   ]
  },
  {
   "cell_type": "markdown",
   "metadata": {},
   "source": [
    "The general workflow to find an appropriate model\n",
    "size is to start with relatively few layers and parameters, and increase the size of the layers or add new layers until you see diminishing returns with regard to validation loss."
   ]
  },
  {
   "cell_type": "code",
   "execution_count": null,
   "metadata": {},
   "outputs": [],
   "source": []
  }
 ],
 "metadata": {
  "kernelspec": {
   "display_name": "Python 3",
   "language": "python",
   "name": "python3"
  },
  "language_info": {
   "codemirror_mode": {
    "name": "ipython",
    "version": 3
   },
   "file_extension": ".py",
   "mimetype": "text/x-python",
   "name": "python",
   "nbconvert_exporter": "python",
   "pygments_lexer": "ipython3",
   "version": "3.6.5"
  }
 },
 "nbformat": 4,
 "nbformat_minor": 2
}
