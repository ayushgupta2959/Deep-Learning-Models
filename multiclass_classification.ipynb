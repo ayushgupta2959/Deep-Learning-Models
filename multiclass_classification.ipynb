{
 "cells": [
  {
   "cell_type": "code",
   "execution_count": 2,
   "metadata": {},
   "outputs": [],
   "source": [
    "from keras.datasets import reuters\n",
    "(train_data,train_labels),(test_data,test_labels) = reuters.load_data(num_words=2500)"
   ]
  },
  {
   "cell_type": "code",
   "execution_count": 3,
   "metadata": {},
   "outputs": [],
   "source": [
    "def decode_newswire_to_english(index):\n",
    "    word_index = reuters.get_word_index()\n",
    "    reserve_word_index = dict([(value,key) for (key,value) in word_index.items()])\n",
    "    decoded_newswire = ' '.join([reserve_word_index.get(i-3,'?') for i in train_data[index]]) \n",
    "    return decoded_newswire                 "
   ]
  },
  {
   "cell_type": "code",
   "execution_count": 4,
   "metadata": {},
   "outputs": [
    {
     "name": "stdout",
     "output_type": "stream",
     "text": [
      "? the farmers home administration the u s agriculture department's farm lending ? could ? about seven billion dlrs in outstanding principal on its ? ? ? or about one fourth of its farm loan portfolio the general accounting office ? said in remarks prepared for delivery to the senate agriculture committee ? ? senior ? director of ? also said that a preliminary ? of proposed changes in ? financial ? ? indicated as many as one half of ? ? who received new loans from the agency in 1986 would be ? under the proposed system the agency has proposed ? ? credit using a ? of financial ? instead of ? ? on ? ability senate agriculture committee chairman ? ? d ? ? the proposed ? changes ? ? ? ? ? at a hearing that they would mark a ? shift in the ? ? away from being ? ? of last ? toward ? a big city bank but ? ? the new regulations saying the agency had a ? to ? its 70 billion dlr loan portfolio in a ? yet ? ? ? of ? ? ? ? said the proposed credit ? system ? to ensure that ? would make loans only to ? who had a reasonable change of ? their debt reuter 3\n"
     ]
    }
   ],
   "source": [
    "print(decode_newswire_to_english(3))"
   ]
  },
  {
   "cell_type": "code",
   "execution_count": 5,
   "metadata": {},
   "outputs": [],
   "source": [
    "import numpy as np"
   ]
  },
  {
   "cell_type": "code",
   "execution_count": 6,
   "metadata": {},
   "outputs": [],
   "source": [
    "def vectorize_sequence(sequences,dimension=2500):\n",
    "    results = np.zeros((len(sequences),dimension))\n",
    "    for i,sequence in enumerate(sequences):\n",
    "        results[i,sequence]=1\n",
    "    return results\n",
    "def to_one_hot(labels,dimension=46):\n",
    "    results = np.zeros((len(labels),dimension))\n",
    "    for i,label in enumerate(labels):\n",
    "        results[i,label]=1.\n",
    "    return results"
   ]
  },
  {
   "cell_type": "code",
   "execution_count": 7,
   "metadata": {},
   "outputs": [],
   "source": [
    "x_train=vectorize_sequence(train_data)\n",
    "x_test=vectorize_sequence(test_data)\n",
    "one_hot_train_label = to_one_hot(train_labels)\n",
    "#using keras library :- one_hot_train_label = to_categorical(train_labels) \n",
    "one_hot_test_label = to_one_hot(test_labels)\n",
    "#using keras library :- one_hot_test_label = to_categorical(test_labels) "
   ]
  },
  {
   "cell_type": "code",
   "execution_count": 31,
   "metadata": {},
   "outputs": [
    {
     "name": "stdout",
     "output_type": "stream",
     "text": [
      "Train on 7982 samples, validate on 1000 samples\n",
      "Epoch 1/20\n",
      "7982/7982 [==============================] - 1s 116us/step - loss: 2.4680 - acc: 0.5066 - val_loss: 1.6542 - val_acc: 0.6310\n",
      "Epoch 2/20\n",
      "7982/7982 [==============================] - 1s 65us/step - loss: 1.4495 - acc: 0.6885 - val_loss: 1.3255 - val_acc: 0.6960\n",
      "Epoch 3/20\n",
      "7982/7982 [==============================] - 1s 77us/step - loss: 1.1630 - acc: 0.7459 - val_loss: 1.1694 - val_acc: 0.7360\n",
      "Epoch 4/20\n",
      "7982/7982 [==============================] - 1s 80us/step - loss: 0.9850 - acc: 0.7849 - val_loss: 1.0499 - val_acc: 0.7690\n",
      "Epoch 5/20\n",
      "7982/7982 [==============================] - 1s 79us/step - loss: 0.8342 - acc: 0.8141 - val_loss: 1.0059 - val_acc: 0.7690\n",
      "Epoch 6/20\n",
      "7982/7982 [==============================] - 1s 65us/step - loss: 0.7271 - acc: 0.8356 - val_loss: 0.9481 - val_acc: 0.7950\n",
      "Epoch 7/20\n",
      "7982/7982 [==============================] - 1s 65us/step - loss: 0.6230 - acc: 0.8603 - val_loss: 0.9021 - val_acc: 0.8040\n",
      "Epoch 8/20\n",
      "7982/7982 [==============================] - 1s 65us/step - loss: 0.5412 - acc: 0.8782 - val_loss: 0.8958 - val_acc: 0.8010\n",
      "Epoch 9/20\n",
      "7982/7982 [==============================] - 1s 66us/step - loss: 0.4691 - acc: 0.8938 - val_loss: 0.8638 - val_acc: 0.8050\n",
      "Epoch 10/20\n",
      "7982/7982 [==============================] - 1s 66us/step - loss: 0.4090 - acc: 0.9075 - val_loss: 0.8687 - val_acc: 0.8140\n",
      "Epoch 11/20\n",
      "7982/7982 [==============================] - 1s 68us/step - loss: 0.3584 - acc: 0.9178 - val_loss: 0.8556 - val_acc: 0.8270\n",
      "Epoch 12/20\n",
      "7982/7982 [==============================] - 1s 67us/step - loss: 0.3193 - acc: 0.9273 - val_loss: 0.8971 - val_acc: 0.8150\n",
      "Epoch 13/20\n",
      "7982/7982 [==============================] - 1s 67us/step - loss: 0.2867 - acc: 0.9332 - val_loss: 0.8884 - val_acc: 0.8090\n",
      "Epoch 14/20\n",
      "7982/7982 [==============================] - 1s 69us/step - loss: 0.2549 - acc: 0.9387 - val_loss: 0.8615 - val_acc: 0.8220\n",
      "Epoch 15/20\n",
      "7982/7982 [==============================] - 1s 97us/step - loss: 0.2291 - acc: 0.9442 - val_loss: 0.8761 - val_acc: 0.8230\n",
      "Epoch 16/20\n",
      "7982/7982 [==============================] - 1s 91us/step - loss: 0.2170 - acc: 0.9450 - val_loss: 0.9120 - val_acc: 0.8200\n",
      "Epoch 17/20\n",
      "7982/7982 [==============================] - 1s 77us/step - loss: 0.1922 - acc: 0.9496 - val_loss: 0.9244 - val_acc: 0.8200\n",
      "Epoch 18/20\n",
      "7982/7982 [==============================] - 1s 68us/step - loss: 0.1802 - acc: 0.9510 - val_loss: 0.9393 - val_acc: 0.8160\n",
      "Epoch 19/20\n",
      "7982/7982 [==============================] - 1s 71us/step - loss: 0.1721 - acc: 0.9528 - val_loss: 0.9068 - val_acc: 0.8230\n",
      "Epoch 20/20\n",
      "7982/7982 [==============================] - 1s 71us/step - loss: 0.1559 - acc: 0.9559 - val_loss: 0.9728 - val_acc: 0.8160\n"
     ]
    }
   ],
   "source": [
    "from keras import layers\n",
    "from keras import models\n",
    "\n",
    "model = models.Sequential()\n",
    "model.add(layers.Dense(64,activation='relu',input_shape=(2500,)))\n",
    "model.add(layers.Dense(100,activation='relu'))\n",
    "model.add(layers.Dense(46,activation='softmax'))\n",
    "\n",
    "model.compile(optimizer='rmsprop',loss='categorical_crossentropy',\n",
    "             metrics=['accuracy'])\n",
    "\n",
    "x_val = x_train[:1000]\n",
    "partial_x_train = x_train[1000:]\n",
    "y_val = one_hot_train_label[:1000]\n",
    "partial_y_train = one_hot_train_label[1000:]\n",
    "\n",
    "history = model.fit(partial_x_train,\n",
    "                   partial_y_train,\n",
    "                   epochs=20,\n",
    "                   batch_size=512,\n",
    "                   validation_data=(x_val,y_val))"
   ]
  },
  {
   "cell_type": "code",
   "execution_count": 32,
   "metadata": {},
   "outputs": [
    {
     "data": {
      "image/png": "[encoded data removed]",
      "text/plain": [
       "<Figure size 576x396 with 1 Axes>"
      ]
     },
     "metadata": {},
     "output_type": "display_data"
    }
   ],
   "source": [
    "import matplotlib.pyplot as plt\n",
    "loss = history.history['loss']\n",
    "val_loss = history.history['val_loss']\n",
    "epochs = range(1,len(loss)+1)\n",
    "with plt.style.context('seaborn-notebook'):\n",
    "    plt.figure()\n",
    "    plt.plot(epochs,loss,'bs',label='Training loss')\n",
    "    plt.plot(epochs,val_loss,'b',label='Validation_loss')\n",
    "    plt.xlabel('Epochs')\n",
    "    plt.ylabel('Loss')\n",
    "    plt.legend()\n",
    "    plt.show()"
   ]
  },
  {
   "cell_type": "code",
   "execution_count": 33,
   "metadata": {},
   "outputs": [
    {
     "data": {
      "text/plain": [
       "<Figure size 432x288 with 0 Axes>"
      ]
     },
     "metadata": {},
     "output_type": "display_data"
    },
    {
     "data": {
      "image/png": "[encoded data removed]",
      "text/plain": [
       "<Figure size 576x396 with 1 Axes>"
      ]
     },
     "metadata": {},
     "output_type": "display_data"
    }
   ],
   "source": [
    "plt.clf()\n",
    "acc = history.history['acc']\n",
    "val_acc = history.history['val_acc']\n",
    "epochs = range(1,len(acc)+1)\n",
    "with plt.style.context('seaborn-notebook'):\n",
    "    plt.figure()\n",
    "    plt.plot(epochs,acc,'bs',label='Trainingacc')\n",
    "    plt.plot(epochs,val_acc,'b',label='Validation acc')\n",
    "    plt.xlabel('Epochs')\n",
    "    plt.ylabel('Accuracy')\n",
    "    plt.legend()\n",
    "    plt.show()"
   ]
  },
  {
   "cell_type": "code",
   "execution_count": 19,
   "metadata": {},
   "outputs": [
    {
     "name": "stdout",
     "output_type": "stream",
     "text": [
      "Train on 7982 samples, validate on 1000 samples\n",
      "Epoch 1/9\n",
      "7982/7982 [==============================] - 1s 96us/step - loss: 2.6851 - acc: 0.4372 - val_loss: 1.8080 - val_acc: 0.6270\n",
      "Epoch 2/9\n",
      "7982/7982 [==============================] - 0s 58us/step - loss: 1.5280 - acc: 0.6794 - val_loss: 1.3536 - val_acc: 0.7010\n",
      "Epoch 3/9\n",
      "7982/7982 [==============================] - 0s 58us/step - loss: 1.2023 - acc: 0.7375 - val_loss: 1.1739 - val_acc: 0.7450\n",
      "Epoch 4/9\n",
      "7982/7982 [==============================] - 0s 57us/step - loss: 1.0072 - acc: 0.7846 - val_loss: 1.0841 - val_acc: 0.7640\n",
      "Epoch 5/9\n",
      "7982/7982 [==============================] - 0s 58us/step - loss: 0.8629 - acc: 0.8130 - val_loss: 1.0005 - val_acc: 0.7870\n",
      "Epoch 6/9\n",
      "7982/7982 [==============================] - 0s 57us/step - loss: 0.7515 - acc: 0.8327 - val_loss: 0.9599 - val_acc: 0.7940\n",
      "Epoch 7/9\n",
      "7982/7982 [==============================] - 1s 83us/step - loss: 0.6496 - acc: 0.8562 - val_loss: 0.9153 - val_acc: 0.8030\n",
      "Epoch 8/9\n",
      "7982/7982 [==============================] - 0s 57us/step - loss: 0.5697 - acc: 0.8752 - val_loss: 0.9027 - val_acc: 0.8080\n",
      "Epoch 9/9\n",
      "7982/7982 [==============================] - 0s 59us/step - loss: 0.4952 - acc: 0.8936 - val_loss: 0.8761 - val_acc: 0.8110\n",
      "2246/2246 [==============================] - 0s 80us/step\n"
     ]
    }
   ],
   "source": [
    "model = models.Sequential()\n",
    "model.add(layers.Dense(64,activation='relu',input_shape=(2500,)))\n",
    "model.add(layers.Dense(64,activation='relu'))\n",
    "model.add(layers.Dense(46,activation='softmax'))\n",
    "\n",
    "model.compile(optimizer='rmsprop',loss='categorical_crossentropy',\n",
    "             metrics=['accuracy'])\n",
    "\n",
    "x_val = x_train[:1000]\n",
    "partial_x_train = x_train[1000:]\n",
    "y_val = one_hot_train_label[:1000]\n",
    "partial_y_train = one_hot_train_label[1000:]\n",
    "\n",
    "history = model.fit(partial_x_train,\n",
    "                   partial_y_train,\n",
    "                   epochs=9,\n",
    "                   batch_size=512,\n",
    "                   validation_data=(x_val,y_val))\n",
    "results = model.evaluate(x_test,one_hot_test_label)"
   ]
  },
  {
   "cell_type": "code",
   "execution_count": 20,
   "metadata": {},
   "outputs": [
    {
     "data": {
      "text/plain": [
       "[0.9638658019971975, 0.784060552092609]"
      ]
     },
     "execution_count": 20,
     "metadata": {},
     "output_type": "execute_result"
    }
   ],
   "source": [
    "results"
   ]
  },
  {
   "cell_type": "code",
   "execution_count": 22,
   "metadata": {},
   "outputs": [
    {
     "data": {
      "text/plain": [
       "(46,)"
      ]
     },
     "execution_count": 22,
     "metadata": {},
     "output_type": "execute_result"
    }
   ],
   "source": [
    "predictions = model.predict(x_test)\n",
    "predictions[0].shape"
   ]
  },
  {
   "cell_type": "code",
   "execution_count": 24,
   "metadata": {},
   "outputs": [
    {
     "data": {
      "text/plain": [
       "0.9999999"
      ]
     },
     "execution_count": 24,
     "metadata": {},
     "output_type": "execute_result"
    }
   ],
   "source": [
    "np.sum(predictions[0])"
   ]
  },
  {
   "cell_type": "code",
   "execution_count": 25,
   "metadata": {},
   "outputs": [
    {
     "data": {
      "text/plain": [
       "3"
      ]
     },
     "execution_count": 25,
     "metadata": {},
     "output_type": "execute_result"
    }
   ],
   "source": [
    "np.argmax(predictions[0])"
   ]
  },
  {
   "cell_type": "code",
   "execution_count": 34,
   "metadata": {},
   "outputs": [],
   "source": [
    "# different way to handle the labels and the loss\n",
    "# y_train = np.array(train_labels)\n",
    "# y_test = np.array(test_labels)\n",
    "# model.complie(optimizer='rmsprop',\n",
    "#                loss='sparse_categorical_crossentropy',\n",
    "#                metrics=['acc'])\n",
    "#Note :- this new loss function is mathematically the same as categorical\n",
    "#        it just has a different interface"
   ]
  },
  {
   "cell_type": "code",
   "execution_count": null,
   "metadata": {},
   "outputs": [],
   "source": []
  }
 ],
 "metadata": {
  "kernelspec": {
   "display_name": "Python 3",
   "language": "python",
   "name": "python3"
  },
  "language_info": {
   "codemirror_mode": {
    "name": "ipython",
    "version": 3
   },
   "file_extension": ".py",
   "mimetype": "text/x-python",
   "name": "python",
   "nbconvert_exporter": "python",
   "pygments_lexer": "ipython3",
   "version": "3.6.6"
  }
 },
 "nbformat": 4,
 "nbformat_minor": 2
}
